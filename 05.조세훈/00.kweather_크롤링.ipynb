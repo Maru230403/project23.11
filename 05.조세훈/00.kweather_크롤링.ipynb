{
 "cells": [
  {
   "cell_type": "code",
   "execution_count": 13,
   "metadata": {},
   "outputs": [],
   "source": [
    "import requests, time\n",
    "import pandas as pd\n",
    "from tqdm import tqdm\n",
    "from bs4 import BeautifulSoup\n",
    "from selenium import webdriver\n",
    "from datetime import datetime, timedelta"
   ]
  },
  {
   "cell_type": "code",
   "execution_count": 5,
   "metadata": {},
   "outputs": [
    {
     "data": {
      "text/plain": [
       "'<!doctype html><html><head><title>생활지수</title><meta charset=utf-8><meta http-equiv=X-UA-Compatible content=\"IE=Edge\"><meta name=theme-color content=#0c419a><meta name=viewport content=\"width=device-width,initial-scale=1,shrink-to-fit=no,maximum-scale=1,user-scalable=no\"><meta name=title content=생활지수><meta name=description content=\"세계 최대의 기상 컨설팅 회사, 날씨, 주간날씨, 주말날씨, 기상 컨설팅, 해운 날씨 컨설팅, 항공 날씨 컨설팅\"><meta property=og:url content=\"//www.kr-weathernews.com/mv3/html/main.html?region=1100000000\"><meta pro'"
      ]
     },
     "execution_count": 5,
     "metadata": {},
     "output_type": "execute_result"
    }
   ],
   "source": [
    "url = 'https://www.kr-weathernews.com/mv3/html/lifeindex.html?region='\n",
    "header = {'User-Agent' : 'Mozilla/5.0 (Windows NT 10.0; Win64; x64) AppleWebKit/537.36 (KHTML, like Gecko) Chrome/117.0.0.0 Safari/537.36'}\n",
    "res = requests.get(url, headers=header)\n",
    "res.encoding = 'utf-8'\n",
    "res.text[:500]"
   ]
  },
  {
   "cell_type": "code",
   "execution_count": 6,
   "metadata": {},
   "outputs": [
    {
     "name": "stderr",
     "output_type": "stream",
     "text": [
      "The chromedriver version (119.0.6045.105) detected in PATH at C:\\Users\\human\\Downloads\\chromedriver.exe might not be compatible with the detected chrome version (120.0.6099.71); currently, chromedriver 120.0.6099.71 is recommended for chrome 120.*, so it is advised to delete the driver in PATH and retry\n"
     ]
    },
    {
     "ename": "TimeoutException",
     "evalue": "Message: timeout: Timed out receiving message from renderer: 299.972\n  (Session info: chrome=120.0.6099.71)\nStacktrace:\n\tGetHandleVerifier [0x00007FF67DD182B2+55298]\n\t(No symbol) [0x00007FF67DC85E02]\n\t(No symbol) [0x00007FF67DB405AB]\n\t(No symbol) [0x00007FF67DB2E997]\n\t(No symbol) [0x00007FF67DB2E7A8]\n\t(No symbol) [0x00007FF67DB2CF0E]\n\t(No symbol) [0x00007FF67DB2D9CE]\n\t(No symbol) [0x00007FF67DB3A20F]\n\t(No symbol) [0x00007FF67DB4B551]\n\t(No symbol) [0x00007FF67DB4FC1A]\n\t(No symbol) [0x00007FF67DB2E032]\n\t(No symbol) [0x00007FF67DB4B42A]\n\t(No symbol) [0x00007FF67DBBAB0B]\n\t(No symbol) [0x00007FF67DBA1E83]\n\t(No symbol) [0x00007FF67DB7670A]\n\t(No symbol) [0x00007FF67DB77964]\n\tGetHandleVerifier [0x00007FF67E090AAB+3694587]\n\tGetHandleVerifier [0x00007FF67E0E728E+4048862]\n\tGetHandleVerifier [0x00007FF67E0DF173+4015811]\n\tGetHandleVerifier [0x00007FF67DDB47D6+695590]\n\t(No symbol) [0x00007FF67DC90CE8]\n\t(No symbol) [0x00007FF67DC8CF34]\n\t(No symbol) [0x00007FF67DC8D062]\n\t(No symbol) [0x00007FF67DC7D3A3]\n\tBaseThreadInitThunk [0x00007FFC52437344+20]\n\tRtlUserThreadStart [0x00007FFC52E026B1+33]\n",
     "output_type": "error",
     "traceback": [
      "\u001b[1;31m---------------------------------------------------------------------------\u001b[0m",
      "\u001b[1;31mTimeoutException\u001b[0m                          Traceback (most recent call last)",
      "Cell \u001b[1;32mIn[6], line 4\u001b[0m\n\u001b[0;32m      1\u001b[0m \u001b[38;5;28;01mfrom\u001b[39;00m \u001b[38;5;21;01mselenium\u001b[39;00m \u001b[38;5;28;01mimport\u001b[39;00m webdriver\n\u001b[0;32m      3\u001b[0m driver \u001b[38;5;241m=\u001b[39m webdriver\u001b[38;5;241m.\u001b[39mChrome()     \u001b[38;5;66;03m# PATH 설정 할 것 (chromedriver.exe가 위치해있는곳을 path 설정해야함)\u001b[39;00m\n\u001b[1;32m----> 4\u001b[0m driver\u001b[38;5;241m.\u001b[39mget(url)\n",
      "File \u001b[1;32mc:\\Users\\human\\anaconda3\\Lib\\site-packages\\selenium\\webdriver\\remote\\webdriver.py:353\u001b[0m, in \u001b[0;36mWebDriver.get\u001b[1;34m(self, url)\u001b[0m\n\u001b[0;32m    351\u001b[0m \u001b[38;5;28;01mdef\u001b[39;00m \u001b[38;5;21mget\u001b[39m(\u001b[38;5;28mself\u001b[39m, url: \u001b[38;5;28mstr\u001b[39m) \u001b[38;5;241m-\u001b[39m\u001b[38;5;241m>\u001b[39m \u001b[38;5;28;01mNone\u001b[39;00m:\n\u001b[0;32m    352\u001b[0m \u001b[38;5;250m    \u001b[39m\u001b[38;5;124;03m\"\"\"Loads a web page in the current browser session.\"\"\"\u001b[39;00m\n\u001b[1;32m--> 353\u001b[0m     \u001b[38;5;28mself\u001b[39m\u001b[38;5;241m.\u001b[39mexecute(Command\u001b[38;5;241m.\u001b[39mGET, {\u001b[38;5;124m\"\u001b[39m\u001b[38;5;124murl\u001b[39m\u001b[38;5;124m\"\u001b[39m: url})\n",
      "File \u001b[1;32mc:\\Users\\human\\anaconda3\\Lib\\site-packages\\selenium\\webdriver\\remote\\webdriver.py:344\u001b[0m, in \u001b[0;36mWebDriver.execute\u001b[1;34m(self, driver_command, params)\u001b[0m\n\u001b[0;32m    342\u001b[0m response \u001b[38;5;241m=\u001b[39m \u001b[38;5;28mself\u001b[39m\u001b[38;5;241m.\u001b[39mcommand_executor\u001b[38;5;241m.\u001b[39mexecute(driver_command, params)\n\u001b[0;32m    343\u001b[0m \u001b[38;5;28;01mif\u001b[39;00m response:\n\u001b[1;32m--> 344\u001b[0m     \u001b[38;5;28mself\u001b[39m\u001b[38;5;241m.\u001b[39merror_handler\u001b[38;5;241m.\u001b[39mcheck_response(response)\n\u001b[0;32m    345\u001b[0m     response[\u001b[38;5;124m\"\u001b[39m\u001b[38;5;124mvalue\u001b[39m\u001b[38;5;124m\"\u001b[39m] \u001b[38;5;241m=\u001b[39m \u001b[38;5;28mself\u001b[39m\u001b[38;5;241m.\u001b[39m_unwrap_value(response\u001b[38;5;241m.\u001b[39mget(\u001b[38;5;124m\"\u001b[39m\u001b[38;5;124mvalue\u001b[39m\u001b[38;5;124m\"\u001b[39m, \u001b[38;5;28;01mNone\u001b[39;00m))\n\u001b[0;32m    346\u001b[0m     \u001b[38;5;28;01mreturn\u001b[39;00m response\n",
      "File \u001b[1;32mc:\\Users\\human\\anaconda3\\Lib\\site-packages\\selenium\\webdriver\\remote\\errorhandler.py:229\u001b[0m, in \u001b[0;36mErrorHandler.check_response\u001b[1;34m(self, response)\u001b[0m\n\u001b[0;32m    227\u001b[0m         alert_text \u001b[38;5;241m=\u001b[39m value[\u001b[38;5;124m\"\u001b[39m\u001b[38;5;124malert\u001b[39m\u001b[38;5;124m\"\u001b[39m]\u001b[38;5;241m.\u001b[39mget(\u001b[38;5;124m\"\u001b[39m\u001b[38;5;124mtext\u001b[39m\u001b[38;5;124m\"\u001b[39m)\n\u001b[0;32m    228\u001b[0m     \u001b[38;5;28;01mraise\u001b[39;00m exception_class(message, screen, stacktrace, alert_text)  \u001b[38;5;66;03m# type: ignore[call-arg]  # mypy is not smart enough here\u001b[39;00m\n\u001b[1;32m--> 229\u001b[0m \u001b[38;5;28;01mraise\u001b[39;00m exception_class(message, screen, stacktrace)\n",
      "\u001b[1;31mTimeoutException\u001b[0m: Message: timeout: Timed out receiving message from renderer: 299.972\n  (Session info: chrome=120.0.6099.71)\nStacktrace:\n\tGetHandleVerifier [0x00007FF67DD182B2+55298]\n\t(No symbol) [0x00007FF67DC85E02]\n\t(No symbol) [0x00007FF67DB405AB]\n\t(No symbol) [0x00007FF67DB2E997]\n\t(No symbol) [0x00007FF67DB2E7A8]\n\t(No symbol) [0x00007FF67DB2CF0E]\n\t(No symbol) [0x00007FF67DB2D9CE]\n\t(No symbol) [0x00007FF67DB3A20F]\n\t(No symbol) [0x00007FF67DB4B551]\n\t(No symbol) [0x00007FF67DB4FC1A]\n\t(No symbol) [0x00007FF67DB2E032]\n\t(No symbol) [0x00007FF67DB4B42A]\n\t(No symbol) [0x00007FF67DBBAB0B]\n\t(No symbol) [0x00007FF67DBA1E83]\n\t(No symbol) [0x00007FF67DB7670A]\n\t(No symbol) [0x00007FF67DB77964]\n\tGetHandleVerifier [0x00007FF67E090AAB+3694587]\n\tGetHandleVerifier [0x00007FF67E0E728E+4048862]\n\tGetHandleVerifier [0x00007FF67E0DF173+4015811]\n\tGetHandleVerifier [0x00007FF67DDB47D6+695590]\n\t(No symbol) [0x00007FF67DC90CE8]\n\t(No symbol) [0x00007FF67DC8CF34]\n\t(No symbol) [0x00007FF67DC8D062]\n\t(No symbol) [0x00007FF67DC7D3A3]\n\tBaseThreadInitThunk [0x00007FFC52437344+20]\n\tRtlUserThreadStart [0x00007FFC52E026B1+33]\n"
     ]
    }
   ],
   "source": [
    "from selenium import webdriver\n",
    "\n",
    "driver = webdriver.Chrome()     # PATH 설정 할 것 (chromedriver.exe가 위치해있는곳을 path 설정해야함)\n",
    "driver.get(url)"
   ]
  },
  {
   "cell_type": "code",
   "execution_count": 4,
   "metadata": {},
   "outputs": [],
   "source": [
    "soup = BeautifulSoup(driver.page_source, 'html.parser')"
   ]
  },
  {
   "cell_type": "code",
   "execution_count": 5,
   "metadata": {},
   "outputs": [
    {
     "data": {
      "text/plain": [
       "5"
      ]
     },
     "execution_count": 5,
     "metadata": {},
     "output_type": "execute_result"
    }
   ],
   "source": [
    "trs = soup.select('#slidePage1 > #pointList > li')\n",
    "len(trs)"
   ]
  },
  {
   "cell_type": "code",
   "execution_count": 6,
   "metadata": {},
   "outputs": [
    {
     "data": {
      "text/plain": [
       "[<li><img alt=\"세차지수 사진\" src=\"../img/icon_idx_carwash.png?ver=20231201\"/><h1>세차지수</h1><h2> 70</h2><p>비교적 걱정 없이 세차할 수 있어요</p><progress max=\"100\" value=\"70\"></progress></li>,\n",
       " <li><img alt=\"달리기지수 사진\" src=\"../img/icon_idx_running.png?ver=20231201\"/><h1>달리기지수</h1><h2> 55</h2><p>오늘은 달리기 보단 가벼운 산책 추천</p><progress max=\"100\" value=\"55\"></progress></li>,\n",
       " <li><img alt=\"빨래지수 사진\" src=\"../img/icon_idx_washing.png?ver=20231201\"/><h1>빨래지수</h1><h2> 54</h2><p>문을 닫고 실내에서 말리는 것을 추천</p><progress max=\"100\" value=\"54\"></progress></li>,\n",
       " <li><img alt=\"수면지수 사진\" src=\"../img/icon_idx_sleep.png?ver=20231201\"/><h1>수면지수</h1><h2> 30</h2><p>수면을 위해 적정 온습도를 유지하세요</p><progress max=\"100\" value=\"30\"></progress></li>,\n",
       " <li><img alt=\"우산지수 사진\" src=\"../img/icon_idx_umb.png?ver=20231201\"/><h1>우산지수</h1><h2> 10</h2><p>우산 없이 가볍게 외출하세요!</p><progress max=\"100\" value=\"10\"></progress></li>]"
      ]
     },
     "execution_count": 6,
     "metadata": {},
     "output_type": "execute_result"
    }
   ],
   "source": [
    "trs.encoding = 'utf-8'\n",
    "trs"
   ]
  },
  {
   "cell_type": "code",
   "execution_count": 7,
   "metadata": {},
   "outputs": [
    {
     "data": {
      "text/plain": [
       "('세차지수', '70', '비교적 걱정 없이 세차할 수 있어요')"
      ]
     },
     "execution_count": 7,
     "metadata": {},
     "output_type": "execute_result"
    }
   ],
   "source": [
    "# 생활지수\n",
    "tr = trs[0]\n",
    "img = tr.select_one('img')['src']\n",
    "item = tr.select_one('h1').get_text().strip().replace('.', '')\n",
    "index = tr.select_one('h2').get_text().strip()\n",
    "ment = tr.select_one('p').get_text().strip()\n",
    "item, index, ment"
   ]
  },
  {
   "cell_type": "code",
   "execution_count": 8,
   "metadata": {},
   "outputs": [],
   "source": [
    "data = []\n",
    "from datetime import datetime, timedelta\n",
    "\n",
    "for tr in trs:\n",
    "    soup = BeautifulSoup(driver.page_source, 'html.parser')\n",
    "    img = tr.select_one('img')['src']\n",
    "    item = tr.select_one('h1').get_text().strip().replace('.', '')\n",
    "    index = tr.select_one('h2').get_text().strip()\n",
    "    ment = tr.select_one('p').get_text().strip()\n",
    "\n",
    "\n",
    "    url = 'https://www.kr-weathernews.com/mv3/html/lifeindex.html?region='\n",
    "    res = requests.get(url)\n",
    "    soup = BeautifulSoup(res.text, 'html.parser')\n",
    "\n",
    "    data.append({ '이미지': img, '생활지수': item, '지수': index, '안내멘트': ment})"
   ]
  },
  {
   "cell_type": "code",
   "execution_count": 9,
   "metadata": {},
   "outputs": [
    {
     "data": {
      "text/html": [
       "<div>\n",
       "<style scoped>\n",
       "    .dataframe tbody tr th:only-of-type {\n",
       "        vertical-align: middle;\n",
       "    }\n",
       "\n",
       "    .dataframe tbody tr th {\n",
       "        vertical-align: top;\n",
       "    }\n",
       "\n",
       "    .dataframe thead th {\n",
       "        text-align: right;\n",
       "    }\n",
       "</style>\n",
       "<table border=\"1\" class=\"dataframe\">\n",
       "  <thead>\n",
       "    <tr style=\"text-align: right;\">\n",
       "      <th></th>\n",
       "      <th>이미지</th>\n",
       "      <th>생활지수</th>\n",
       "      <th>지수</th>\n",
       "      <th>안내멘트</th>\n",
       "    </tr>\n",
       "  </thead>\n",
       "  <tbody>\n",
       "    <tr>\n",
       "      <th>0</th>\n",
       "      <td>../img/icon_idx_carwash.png?ver=20231201</td>\n",
       "      <td>세차지수</td>\n",
       "      <td>70</td>\n",
       "      <td>비교적 걱정 없이 세차할 수 있어요</td>\n",
       "    </tr>\n",
       "    <tr>\n",
       "      <th>1</th>\n",
       "      <td>../img/icon_idx_running.png?ver=20231201</td>\n",
       "      <td>달리기지수</td>\n",
       "      <td>55</td>\n",
       "      <td>오늘은 달리기 보단 가벼운 산책 추천</td>\n",
       "    </tr>\n",
       "    <tr>\n",
       "      <th>2</th>\n",
       "      <td>../img/icon_idx_washing.png?ver=20231201</td>\n",
       "      <td>빨래지수</td>\n",
       "      <td>54</td>\n",
       "      <td>문을 닫고 실내에서 말리는 것을 추천</td>\n",
       "    </tr>\n",
       "    <tr>\n",
       "      <th>3</th>\n",
       "      <td>../img/icon_idx_sleep.png?ver=20231201</td>\n",
       "      <td>수면지수</td>\n",
       "      <td>30</td>\n",
       "      <td>수면을 위해 적정 온습도를 유지하세요</td>\n",
       "    </tr>\n",
       "    <tr>\n",
       "      <th>4</th>\n",
       "      <td>../img/icon_idx_umb.png?ver=20231201</td>\n",
       "      <td>우산지수</td>\n",
       "      <td>10</td>\n",
       "      <td>우산 없이 가볍게 외출하세요!</td>\n",
       "    </tr>\n",
       "  </tbody>\n",
       "</table>\n",
       "</div>"
      ],
      "text/plain": [
       "                                        이미지   생활지수  지수                  안내멘트\n",
       "0  ../img/icon_idx_carwash.png?ver=20231201   세차지수  70   비교적 걱정 없이 세차할 수 있어요\n",
       "1  ../img/icon_idx_running.png?ver=20231201  달리기지수  55  오늘은 달리기 보단 가벼운 산책 추천\n",
       "2  ../img/icon_idx_washing.png?ver=20231201   빨래지수  54  문을 닫고 실내에서 말리는 것을 추천\n",
       "3    ../img/icon_idx_sleep.png?ver=20231201   수면지수  30  수면을 위해 적정 온습도를 유지하세요\n",
       "4      ../img/icon_idx_umb.png?ver=20231201   우산지수  10      우산 없이 가볍게 외출하세요!"
      ]
     },
     "execution_count": 9,
     "metadata": {},
     "output_type": "execute_result"
    }
   ],
   "source": [
    "df = pd.DataFrame(data)\n",
    "df"
   ]
  },
  {
   "cell_type": "code",
   "execution_count": 3,
   "metadata": {},
   "outputs": [
    {
     "name": "stderr",
     "output_type": "stream",
     "text": [
      "The chromedriver version (119.0.6045.105) detected in PATH at C:\\Users\\human\\Downloads\\chromedriver.exe might not be compatible with the detected chrome version (120.0.6099.71); currently, chromedriver 120.0.6099.71 is recommended for chrome 120.*, so it is advised to delete the driver in PATH and retry\n"
     ]
    },
    {
     "data": {
      "text/plain": [
       "3"
      ]
     },
     "execution_count": 3,
     "metadata": {},
     "output_type": "execute_result"
    }
   ],
   "source": [
    "#\n",
    "url = 'https://www.kr-weathernews.com/mv3/html/lifeindex.html?region='\n",
    "header = {'User-Agent' : 'Mozilla/5.0 (Windows NT 10.0; Win64; x64) AppleWebKit/537.36 (KHTML, like Gecko) Chrome/117.0.0.0 Safari/537.36'}\n",
    "res = requests.get(url, headers=header) \n",
    "driver = webdriver.Chrome()     # PATH 설정 할 것 (chromedriver.exe가 위치해있는곳을 path 설정해야함)\n",
    "driver.get(url)\n",
    "soup = BeautifulSoup(driver.page_source, 'html.parser')\n",
    "trs2 = soup.select('#slidePage2 > #pointList > li')\n",
    "len(trs2)"
   ]
  },
  {
   "cell_type": "code",
   "execution_count": 4,
   "metadata": {},
   "outputs": [
    {
     "data": {
      "text/plain": [
       "[<li><img alt=\"자외선지수 사진\" src=\"../img/icon_life_uv.png?ver=20231201\"/><h1>자외선지수</h1><h2> 0</h2><p>자외선 걱정 없는 날이에요.</p><progress max=\"100\" value=\"25\"></progress></li>,\n",
       " <li><img alt=\"감기지수 사진\" src=\"../img/icon_life_cold.png?ver=20231201\"/><h1>감기지수</h1><h2> 3</h2><p>노약자는 외부 활동을 되도록 삼가요</p><progress max=\"100\" value=\"75\"></progress></li>,\n",
       " <li><img alt=\"동파지수 사진\" src=\"../img/icon_life_freez.png?ver=20231201\"/><h1>동파지수</h1><h2> 25</h2><p>동파지수가 매우 낮아요</p><progress max=\"100\" value=\"25\"></progress></li>]"
      ]
     },
     "execution_count": 4,
     "metadata": {},
     "output_type": "execute_result"
    }
   ],
   "source": [
    "#trs2.encoding = 'utf-8'\n",
    "trs2"
   ]
  },
  {
   "cell_type": "code",
   "execution_count": 5,
   "metadata": {},
   "outputs": [
    {
     "data": {
      "text/plain": [
       "('자외선지수', '0', '자외선 걱정 없는 날이에요.')"
      ]
     },
     "execution_count": 5,
     "metadata": {},
     "output_type": "execute_result"
    }
   ],
   "source": [
    "# 생활지수\n",
    "soup = BeautifulSoup(driver.page_source, 'html.parser')\n",
    "trs2 = soup.select('#slidePage2 > #pointList > li')\n",
    "tr2 = trs2[0]\n",
    "img = tr2.select_one('img')['src']\n",
    "item = tr2.select_one('h1').get_text().strip().replace('.', '')\n",
    "index = tr2.select_one('h2').get_text().strip()\n",
    "ment = tr2.select_one('p').get_text().strip()\n",
    "item, index, ment"
   ]
  },
  {
   "cell_type": "code",
   "execution_count": 6,
   "metadata": {},
   "outputs": [],
   "source": [
    "data = []\n",
    "#url = 'https://www.kr-weathernews.com/mv3/html/lifeindex.html?region='\n",
    "#driver = webdriver.Chrome()     # PATH 설정 할 것 (chromedriver.exe가 위치해있는곳을 path 설정해야함)\n",
    "#driver.get(url)\n",
    "#soup = BeautifulSoup(driver.page_source, 'html.parser')\n",
    "#trs2 = soup.select('#slidePage2 > #pointList > li')\n",
    "for tr2 in trs2:\n",
    "    soup = BeautifulSoup(driver.page_source, 'html.parser')\n",
    "    img = tr2.select_one('img')['src']\n",
    "    item = tr2.select_one('h1').get_text().strip().replace('.', '')\n",
    "    index = tr2.select_one('h2').get_text().strip()\n",
    "    ment = tr2.select_one('p').get_text().strip()\n",
    "\n",
    "\n",
    "    url = 'https://www.kr-weathernews.com/mv3/html/lifeindex.html?region='\n",
    "    res = requests.get(url)\n",
    "    soup = BeautifulSoup(res.text, 'html.parser')\n",
    "\n",
    "    data.append({ '이미지': img, '생활지수': item, '지수': index, '안내멘트': ment})"
   ]
  },
  {
   "cell_type": "code",
   "execution_count": 17,
   "metadata": {},
   "outputs": [
    {
     "data": {
      "text/html": [
       "<div>\n",
       "<style scoped>\n",
       "    .dataframe tbody tr th:only-of-type {\n",
       "        vertical-align: middle;\n",
       "    }\n",
       "\n",
       "    .dataframe tbody tr th {\n",
       "        vertical-align: top;\n",
       "    }\n",
       "\n",
       "    .dataframe thead th {\n",
       "        text-align: right;\n",
       "    }\n",
       "</style>\n",
       "<table border=\"1\" class=\"dataframe\">\n",
       "  <thead>\n",
       "    <tr style=\"text-align: right;\">\n",
       "      <th></th>\n",
       "      <th>이미지</th>\n",
       "      <th>생활지수</th>\n",
       "      <th>지수</th>\n",
       "      <th>안내멘트</th>\n",
       "    </tr>\n",
       "  </thead>\n",
       "  <tbody>\n",
       "    <tr>\n",
       "      <th>0</th>\n",
       "      <td>../img/icon_idx_carwash.png?ver=20231201</td>\n",
       "      <td>세차지수</td>\n",
       "      <td>0</td>\n",
       "      <td>오늘은 세차하기에 최악의 날씨</td>\n",
       "    </tr>\n",
       "    <tr>\n",
       "      <th>1</th>\n",
       "      <td>../img/icon_idx_running.png?ver=20231201</td>\n",
       "      <td>달리기지수</td>\n",
       "      <td>17.5</td>\n",
       "      <td>오늘은 꼭 실내에서 운동하세요</td>\n",
       "    </tr>\n",
       "    <tr>\n",
       "      <th>2</th>\n",
       "      <td>../img/icon_idx_washing.png?ver=20231201</td>\n",
       "      <td>빨래지수</td>\n",
       "      <td>63</td>\n",
       "      <td>빨래하기에 적당한 날씨예요</td>\n",
       "    </tr>\n",
       "    <tr>\n",
       "      <th>3</th>\n",
       "      <td>../img/icon_idx_sleep.png?ver=20231201</td>\n",
       "      <td>수면지수</td>\n",
       "      <td>20</td>\n",
       "      <td>수면을 위해 적정 온습도를 유지하세요</td>\n",
       "    </tr>\n",
       "    <tr>\n",
       "      <th>4</th>\n",
       "      <td>../img/icon_idx_umb.png?ver=20231201</td>\n",
       "      <td>우산지수</td>\n",
       "      <td>60</td>\n",
       "      <td>우산 꼭 챙겨서 외출하세요</td>\n",
       "    </tr>\n",
       "    <tr>\n",
       "      <th>5</th>\n",
       "      <td>../img/icon_life_uv.png?ver=20231201</td>\n",
       "      <td>자외선지수</td>\n",
       "      <td>1</td>\n",
       "      <td>오늘은 안심하고 야외 활동하세요</td>\n",
       "    </tr>\n",
       "    <tr>\n",
       "      <th>6</th>\n",
       "      <td>../img/icon_life_cold.png?ver=20231201</td>\n",
       "      <td>감기지수</td>\n",
       "      <td>3</td>\n",
       "      <td>감기지수가 높으니 체온 유지는 필수</td>\n",
       "    </tr>\n",
       "    <tr>\n",
       "      <th>7</th>\n",
       "      <td>../img/icon_life_freez.png?ver=20231201</td>\n",
       "      <td>동파지수</td>\n",
       "      <td>25</td>\n",
       "      <td>오늘은 동파 걱정 끝!</td>\n",
       "    </tr>\n",
       "  </tbody>\n",
       "</table>\n",
       "</div>"
      ],
      "text/plain": [
       "                                        이미지   생활지수    지수                  안내멘트\n",
       "0  ../img/icon_idx_carwash.png?ver=20231201   세차지수     0      오늘은 세차하기에 최악의 날씨\n",
       "1  ../img/icon_idx_running.png?ver=20231201  달리기지수  17.5      오늘은 꼭 실내에서 운동하세요\n",
       "2  ../img/icon_idx_washing.png?ver=20231201   빨래지수    63        빨래하기에 적당한 날씨예요\n",
       "3    ../img/icon_idx_sleep.png?ver=20231201   수면지수    20  수면을 위해 적정 온습도를 유지하세요\n",
       "4      ../img/icon_idx_umb.png?ver=20231201   우산지수    60        우산 꼭 챙겨서 외출하세요\n",
       "5      ../img/icon_life_uv.png?ver=20231201  자외선지수     1     오늘은 안심하고 야외 활동하세요\n",
       "6    ../img/icon_life_cold.png?ver=20231201   감기지수     3   감기지수가 높으니 체온 유지는 필수\n",
       "7   ../img/icon_life_freez.png?ver=20231201   동파지수    25          오늘은 동파 걱정 끝!"
      ]
     },
     "execution_count": 17,
     "metadata": {},
     "output_type": "execute_result"
    }
   ],
   "source": [
    "df = pd.DataFrame(data)\n",
    "df"
   ]
  },
  {
   "cell_type": "code",
   "execution_count": 8,
   "metadata": {},
   "outputs": [],
   "source": [
    "# 데이터프레임을 텍스트 파일로 저장\n",
    "df.to_csv('data/kweather.txt', sep='\\t', index=False)"
   ]
  },
  {
   "cell_type": "code",
   "execution_count": 18,
   "metadata": {},
   "outputs": [],
   "source": [
    "df.to_csv('data/kweather.csv', index=False)"
   ]
  },
  {
   "cell_type": "code",
   "execution_count": 19,
   "metadata": {},
   "outputs": [
    {
     "name": "stderr",
     "output_type": "stream",
     "text": [
      "The chromedriver version (119.0.6045.105) detected in PATH at C:\\Users\\human\\Downloads\\chromedriver.exe might not be compatible with the detected chrome version (120.0.6099.71); currently, chromedriver 120.0.6099.71 is recommended for chrome 120.*, so it is advised to delete the driver in PATH and retry\n"
     ]
    }
   ],
   "source": [
    "data1 = []\n",
    "data2 = []\n",
    "url = 'https://www.kr-weathernews.com/mv3/html/lifeindex.html?region='\n",
    "header = {'User-Agent' : 'Mozilla/5.0 (Windows NT 10.0; Win64; x64) AppleWebKit/537.36 (KHTML, like Gecko) Chrome/117.0.0.0 Safari/537.36'}\n",
    "res = requests.get(url, headers=header) \n",
    "driver = webdriver.Chrome()     # PATH 설정 할 것 (chromedriver.exe가 위치해있는곳을 path 설정해야함)\n",
    "driver.get(url)\n",
    "soup = BeautifulSoup(driver.page_source, 'html.parser')\n",
    "trs = soup.select('#slidePage1 > #pointList > li')\n",
    "trs2 = soup.select('#slidePage2 > #pointList > li')\n",
    "\n",
    "for tr in trs:\n",
    "    soup = BeautifulSoup(driver.page_source, 'html.parser')\n",
    "    img = tr.select_one('img')['src']\n",
    "    item = tr.select_one('h1').get_text().strip().replace('.', '')\n",
    "    index = tr.select_one('h2').get_text().strip()\n",
    "    ment = tr.select_one('p').get_text().strip()\n",
    "\n",
    "\n",
    "    url = 'https://www.kr-weathernews.com/mv3/html/lifeindex.html?region='\n",
    "    res = requests.get(url)\n",
    "    soup = BeautifulSoup(res.text, 'html.parser')\n",
    "\n",
    "    data1.append({ '이미지': img, '생활지수': item, '지수': index, '안내멘트': ment})\n",
    "    \n",
    "for tr2 in trs2:\n",
    "    soup = BeautifulSoup(driver.page_source, 'html.parser')\n",
    "    time.sleep(2)\n",
    "    img = tr2.select_one('img')['src']\n",
    "    item = tr2.select_one('h1').get_text().strip().replace('.', '')\n",
    "    index = tr2.select_one('h2').get_text().strip()\n",
    "    ment = tr2.select_one('p').get_text().strip()\n",
    "\n",
    "\n",
    "    url = 'https://www.kr-weathernews.com/mv3/html/lifeindex.html?region='\n",
    "    res = requests.get(url)\n",
    "    soup = BeautifulSoup(res.text, 'html.parser')\n",
    "\n",
    "    data2.append({ '이미지': img, '생활지수': item, '지수': index, '안내멘트': ment})\n",
    "\n",
    "data = data1 + data2\n",
    "df = pd.DataFrame(data)\n",
    "df.to_csv('data/kweather.csv', index=False)"
   ]
  },
  {
   "cell_type": "code",
   "execution_count": 16,
   "metadata": {},
   "outputs": [
    {
     "data": {
      "text/plain": [
       "[{'이미지': '../img/icon_idx_carwash.png?ver=20231201',\n",
       "  '생활지수': '세차지수',\n",
       "  '지수': '0',\n",
       "  '안내멘트': '오늘은 세차하기에 최악의 날씨'},\n",
       " {'이미지': '../img/icon_idx_running.png?ver=20231201',\n",
       "  '생활지수': '달리기지수',\n",
       "  '지수': '17.5',\n",
       "  '안내멘트': '오늘은 꼭 실내에서 운동하세요'},\n",
       " {'이미지': '../img/icon_idx_washing.png?ver=20231201',\n",
       "  '생활지수': '빨래지수',\n",
       "  '지수': '63',\n",
       "  '안내멘트': '빨래하기에 적당한 날씨예요'},\n",
       " {'이미지': '../img/icon_idx_sleep.png?ver=20231201',\n",
       "  '생활지수': '수면지수',\n",
       "  '지수': '20',\n",
       "  '안내멘트': '수면을 위해 적정 온습도를 유지하세요'},\n",
       " {'이미지': '../img/icon_idx_umb.png?ver=20231201',\n",
       "  '생활지수': '우산지수',\n",
       "  '지수': '60',\n",
       "  '안내멘트': '우산 꼭 챙겨서 외출하세요'},\n",
       " {'이미지': '../img/icon_life_uv.png?ver=20231201',\n",
       "  '생활지수': '자외선지수',\n",
       "  '지수': '1',\n",
       "  '안내멘트': '오늘은 안심하고 야외 활동하세요'},\n",
       " {'이미지': '../img/icon_life_cold.png?ver=20231201',\n",
       "  '생활지수': '감기지수',\n",
       "  '지수': '3',\n",
       "  '안내멘트': '감기지수가 높으니 체온 유지는 필수'},\n",
       " {'이미지': '../img/icon_life_freez.png?ver=20231201',\n",
       "  '생활지수': '동파지수',\n",
       "  '지수': '25',\n",
       "  '안내멘트': '오늘은 동파 걱정 끝!'}]"
      ]
     },
     "execution_count": 16,
     "metadata": {},
     "output_type": "execute_result"
    }
   ],
   "source": [
    "data"
   ]
  },
  {
   "cell_type": "code",
   "execution_count": null,
   "metadata": {},
   "outputs": [],
   "source": []
  }
 ],
 "metadata": {
  "kernelspec": {
   "display_name": "Python 3",
   "language": "python",
   "name": "python3"
  },
  "language_info": {
   "codemirror_mode": {
    "name": "ipython",
    "version": 3
   },
   "file_extension": ".py",
   "mimetype": "text/x-python",
   "name": "python",
   "nbconvert_exporter": "python",
   "pygments_lexer": "ipython3",
   "version": "3.11.4"
  }
 },
 "nbformat": 4,
 "nbformat_minor": 2
}
